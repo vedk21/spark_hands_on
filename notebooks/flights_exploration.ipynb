{
 "cells": [
  {
   "cell_type": "markdown",
   "metadata": {},
   "source": [
    "### **Flights Data Exploration**"
   ]
  },
  {
   "cell_type": "markdown",
   "metadata": {},
   "source": [
    "### 1. Connection\n",
    "\n",
    "To connect to the Spark cluster, create a SparkSession object with the following params:\n",
    "\n",
    "+ **appName:** FlightsDataExploration - The name of your Spark application, displayed in the Spark UI (e.g., `http://localhost:4040`).  Helps identify your application.\n",
    "\n",
    "+ **spark.driver.memory:** 1g - `Memory` allocated to the `Spark driver` process, which coordinates application execution. 1 gigabytes.\n",
    "\n",
    "+ **spark.executor.memory:** 1g - `Memory` allocated to each `Spark executor` process, where data processing and computations occur. 1 gigabytes.\n",
    "\n",
    "+ **spark.sql.shuffle.partitions:** 200 - Number of `partitions` created during `shuffle operations` (e.g., joins, aggregations). 200 partitions.\n",
    "\n",
    "+ **spark.sql.adaptive.enabled:** true - Enables `Adaptive Query Execution` (AQE) for dynamic query plan optimization. Enabled.\n",
    "\n",
    "+ **spark.sql.autoBroadcastJoinThreshold:** 100mb - `Size threshold` for a table to be considered for `broadcast join`. 100 megabytes."
   ]
  },
  {
   "cell_type": "code",
   "execution_count": 50,
   "metadata": {},
   "outputs": [],
   "source": [
    "from pyspark.sql import SparkSession\n",
    "from pyspark.sql.functions import *"
   ]
  },
  {
   "cell_type": "code",
   "execution_count": 51,
   "metadata": {},
   "outputs": [],
   "source": [
    "# Initialize Spark Session with configurations\n",
    "spark = (\n",
    "    SparkSession.builder.appName(\"FlightsDataExplorationToptBusiestAirportsAnalysis\")\n",
    "    .config(\"spark.driver.memory\", \"1g\")  # Driver memory\n",
    "    .config(\"spark.executor.memory\", \"1g\")  # Executor memory\n",
    "    .config(\"spark.sql.shuffle.partitions\", \"200\") # Control shuffle partitions\n",
    "    .config(\"spark.sql.adaptive.enabled\", \"true\")  # Enable adaptive query execution\n",
    "    .config(\"spark.sql.autoBroadcastJoinThreshold\", \"100mb\") # Adjust broadcast join threshold\n",
    "    .getOrCreate()\n",
    ")"
   ]
  },
  {
   "cell_type": "markdown",
   "metadata": {},
   "source": [
    "### 2. Read\n",
    "\n",
    "This section focuses on reading the various datasets required for our flight analysis. We utilize the `spark.read.csv()` function to load data from CSV files into Spark DataFrames.  The `header=True` option specifies that the first row of each CSV file contains column names.  `inferSchema=True` tells Spark to attempt to automatically determine the data type of each column (e.g., string, integer, double).\n",
    "\n",
    "Specifically, we load the following datasets:\n",
    "\n",
    "* **Airlines Dataset:**  `airlines_df` contains information about airlines, including their IATA codes and full names.  It is read from the `airlines.csv` file.\n",
    "\n",
    "* **Airports Dataset:** `airports_df` contains details about airports, such as their IATA codes, names, city, state, and location.  It is read from the `airports.csv` file.\n",
    "\n",
    "* **Cancellation Codes Dataset:** `cancellation_codes_df` provides descriptions for different cancellation codes. It is read from the `cancellation_codes.csv` file.\n",
    "\n",
    "* **Flights Dataset:** `flights_df` contains detailed information about individual flights, including dates, times, airlines, origin and destination airports, delays, and cancellation status. It is read from the `flights.csv` file.\n",
    "\n",
    "These DataFrames will be used in subsequent sections for data exploration, transformations, and analysis."
   ]
  },
  {
   "cell_type": "code",
   "execution_count": 52,
   "metadata": {},
   "outputs": [
    {
     "name": "stderr",
     "output_type": "stream",
     "text": [
      "                                                                                \r"
     ]
    }
   ],
   "source": [
    "# --- Read Data ---\n",
    "airlines_df = spark.read \\\n",
    "  .csv(\n",
    "    \"data/flights/airlines.csv\",\n",
    "    header=True,\n",
    "    inferSchema=True\n",
    "  )\n",
    "airports_df = spark.read \\\n",
    "  .csv(\n",
    "    \"data/flights/airports.csv\",\n",
    "    header = True,\n",
    "    inferSchema = True\n",
    "  )\n",
    "cancellation_codes_df = spark.read \\\n",
    "  .csv(\n",
    "    \"data/flights/cancellation_codes.csv\",\n",
    "    header = True,\n",
    "    inferSchema = True\n",
    "  )"
   ]
  },
  {
   "cell_type": "markdown",
   "metadata": {},
   "source": [
    "**Reading Flight Data with Schema Inference**\n",
    "\n",
    "This code demonstrates an efficient way to read flight data from a CSV file using Spark, leveraging schema inference for optimal performance.\n"
   ]
  },
  {
   "cell_type": "code",
   "execution_count": 53,
   "metadata": {},
   "outputs": [
    {
     "name": "stderr",
     "output_type": "stream",
     "text": [
      "                                                                                \r"
     ]
    }
   ],
   "source": [
    "sampled_flights_df = spark.read \\\n",
    "  .csv(\n",
    "    \"data/flights/flights.csv\",\n",
    "    header = True,\n",
    "    inferSchema = True\n",
    "  ) \\\n",
    "  .sample(\n",
    "    withReplacement = False,\n",
    "    fraction = 0.000001,\n",
    "    seed = 42\n",
    "  )\n",
    "\n",
    "flights_schema = sampled_flights_df.schema\n",
    "\n",
    "flights_df = spark.read \\\n",
    "  .csv(\n",
    "    \"data/flights/flights.csv\",\n",
    "    header = True,\n",
    "    schema=flights_schema\n",
    "  )"
   ]
  },
  {
   "cell_type": "markdown",
   "metadata": {},
   "source": [
    "### 3. Data Exploration and Transformations\n",
    "\n",
    "This section demonstrates various data exploration and transformation techniques using PySpark to analyze the flight data. We perform `aggregations`, `filtering`, `joins`, and other operations to gain insights into the data.  Because we are using a sample of the data, the results shown here will reflect the properties of the sample, not the full dataset.  If you wish to run these analyses on the full dataset, remove the `.sample()` operation and the `caching/persisting`."
   ]
  },
  {
   "cell_type": "markdown",
   "metadata": {},
   "source": [
    "### 1. Which airline had the most cancellations?\n",
    "\n",
    "* **Finding the Airline with Most Cancellations:** We filter the `flights_df` to isolate cancelled flights (`CANCELLED` == 1). Then, we group the cancelled flights by `AIRLINE` and count the number of cancellations for each airline. The results are ordered in descending order of cancellation count to identify the airline with the most cancellations.\n",
    "\n",
    "* **Joining with Airline Names:** To provide more context, we join the cancellation counts with the `airlines_df` using the `AIRLINE` IATA code. This adds the full airline name to the cancellation counts, making the results easier to interpret.\n"
   ]
  },
  {
   "cell_type": "code",
   "execution_count": null,
   "metadata": {},
   "outputs": [],
   "source": [
    "cancelled_flights = flights_df.filter(\n",
    "  col(\"CANCELLED\") == 1\n",
    ")\n",
    "\n",
    "cancellation_counts = (\n",
    "    cancelled_flights.groupBy(\"AIRLINE\")\n",
    "    .agg(\n",
    "      count(\"*\").alias(\"cancellation_count\")\n",
    "    )\n",
    "    .orderBy(\n",
    "      col(\"cancellation_count\").desc()\n",
    "    )\n",
    ")\n",
    "\n",
    "cancellation_counts.show()"
   ]
  },
  {
   "cell_type": "code",
   "execution_count": null,
   "metadata": {},
   "outputs": [
    {
     "name": "stderr",
     "output_type": "stream",
     "text": [
      "[Stage 12:>                                                         (0 + 6) / 6]\r"
     ]
    },
    {
     "name": "stdout",
     "output_type": "stream",
     "text": [
      "+--------------------+------------------+\n",
      "|             AIRLINE|cancellation_count|\n",
      "+--------------------+------------------+\n",
      "|United Air Lines ...|              6573|\n",
      "|    Spirit Air Lines|              2004|\n",
      "|American Airlines...|             10919|\n",
      "|Atlantic Southeas...|             15231|\n",
      "|     JetBlue Airways|              4276|\n",
      "|Delta Air Lines Inc.|              3824|\n",
      "|Skywest Airlines ...|              9960|\n",
      "|Frontier Airlines...|               588|\n",
      "|     US Airways Inc.|              4067|\n",
      "|American Eagle Ai...|             15025|\n",
      "|Hawaiian Airlines...|               171|\n",
      "|Alaska Airlines Inc.|               669|\n",
      "|      Virgin America|               534|\n",
      "|Southwest Airline...|             16043|\n",
      "+--------------------+------------------+\n",
      "\n"
     ]
    },
    {
     "name": "stderr",
     "output_type": "stream",
     "text": [
      "                                                                                \r"
     ]
    }
   ],
   "source": [
    "# Join with airline names for better readability\n",
    "cancellation_counts_with_names = cancellation_counts.join(\n",
    "    airlines_df,\n",
    "    cancellation_counts[\"AIRLINE\"] == airlines_df[\"IATA_CODE\"],\n",
    "    \"inner\"\n",
    ").select(airlines_df[\"AIRLINE\"], \"cancellation_count\")\n",
    "\n",
    "cancellation_counts_with_names.show()"
   ]
  },
  {
   "cell_type": "markdown",
   "metadata": {},
   "source": [
    "### 2. What are top 10 Airlines with most flights:**\n",
    "\n",
    "* **Counting Flights per Airline:** We group the `flights_df` by `AIRLINE` and count the number of flights for each airline.\n",
    "\n",
    "* **Limiting to Top 10:** We use the `limit()` function to select only the top 10 airlines with the most flights.\n",
    "\n",
    "* **Ordering and Displaying Results:** The results are ordered by flight count in descending order.\n"
   ]
  },
  {
   "cell_type": "code",
   "execution_count": 24,
   "metadata": {},
   "outputs": [
    {
     "name": "stderr",
     "output_type": "stream",
     "text": [
      "[Stage 8:=================================================>         (5 + 1) / 6]\r"
     ]
    },
    {
     "name": "stdout",
     "output_type": "stream",
     "text": [
      "+-------+------------+\n",
      "|AIRLINE|flight_count|\n",
      "+-------+------------+\n",
      "|     WN|     1261855|\n",
      "|     DL|      875881|\n",
      "|     AA|      725984|\n",
      "|     OO|      588353|\n",
      "|     EV|      571977|\n",
      "|     UA|      515723|\n",
      "|     MQ|      294632|\n",
      "|     B6|      267048|\n",
      "|     US|      198715|\n",
      "|     AS|      172521|\n",
      "+-------+------------+\n",
      "\n"
     ]
    },
    {
     "name": "stderr",
     "output_type": "stream",
     "text": [
      "                                                                                \r"
     ]
    }
   ],
   "source": [
    "top_airlines = (\n",
    "    flights_df.groupBy(\"AIRLINE\")\n",
    "    .agg(count(\"*\").alias(\"flight_count\"))\n",
    "    .orderBy(col(\"flight_count\").desc())\n",
    "    .limit(10)  # Limit to top 10\n",
    ")\n",
    "top_airlines.show()"
   ]
  },
  {
   "cell_type": "markdown",
   "metadata": {},
   "source": [
    "### 3. What were the top 10 busiest airports (most flights)?\n",
    "\n",
    "* **Calculating Airport Traffic:** We determine the busiest airports by calculating the total number of flights (arrivals and departures) for each airport. We group the `flights_df` by `ORIGIN_AIRPORT` and `DESTINATION_AIRPORT` separately to count departures and arrivals.\n",
    "\n",
    "* **Combining Arrival and Departure Counts:** We perform a full outer join on the origin and destination counts to get the combined traffic for each airport.  The `coalesce` function is used to handle cases where an airport might only have arrivals or departures, ensuring that all airports are included in the results. The total traffic is calculated by summing the origin and destination counts.\n",
    "\n",
    "* **Ordering and Displaying Results:** The results are ordered by total traffic in descending order to show the busiest airports.\n"
   ]
  },
  {
   "cell_type": "code",
   "execution_count": 54,
   "metadata": {},
   "outputs": [
    {
     "name": "stderr",
     "output_type": "stream",
     "text": [
      "                                                                                \r"
     ]
    },
    {
     "name": "stdout",
     "output_type": "stream",
     "text": [
      "+--------------+------------+\n",
      "|ORIGIN_AIRPORT|origin_count|\n",
      "+--------------+------------+\n",
      "|           BGM|         262|\n",
      "|           PSE|         749|\n",
      "|           INL|         574|\n",
      "|           MSY|       38804|\n",
      "|           PPG|         107|\n",
      "|           GEG|        9505|\n",
      "|           SNA|       37187|\n",
      "|           BUR|       18889|\n",
      "|           GRB|        4881|\n",
      "|           GTF|        1966|\n",
      "|           IDA|        2247|\n",
      "|           GRR|       10845|\n",
      "|           JLN|         666|\n",
      "|           EUG|        3632|\n",
      "|           PSG|         664|\n",
      "|           GSO|        6737|\n",
      "|           PVD|       11058|\n",
      "|           MYR|        4831|\n",
      "|           OAK|       42316|\n",
      "|           MSN|        9135|\n",
      "+--------------+------------+\n",
      "only showing top 20 rows\n",
      "\n"
     ]
    },
    {
     "name": "stderr",
     "output_type": "stream",
     "text": [
      "[Stage 11:>                                                         (0 + 6) / 6]\r"
     ]
    },
    {
     "name": "stdout",
     "output_type": "stream",
     "text": [
      "+-------------------+-----------------+\n",
      "|DESTINATION_AIRPORT|destination_count|\n",
      "+-------------------+-----------------+\n",
      "|                BGM|              264|\n",
      "|                INL|              574|\n",
      "|                PSE|              751|\n",
      "|                MSY|            38802|\n",
      "|                PPG|              107|\n",
      "|                GEG|             9504|\n",
      "|                SNA|            37195|\n",
      "|                BUR|            18890|\n",
      "|                GRB|             4883|\n",
      "|                GTF|             1966|\n",
      "|                IDA|             2247|\n",
      "|                GRR|            10840|\n",
      "|                JLN|              666|\n",
      "|                EUG|             3631|\n",
      "|                PSG|              664|\n",
      "|                MYR|             4830|\n",
      "|                GSO|             6734|\n",
      "|                PVD|            11059|\n",
      "|                OAK|            42313|\n",
      "|                MSN|             9129|\n",
      "+-------------------+-----------------+\n",
      "only showing top 20 rows\n",
      "\n"
     ]
    },
    {
     "name": "stderr",
     "output_type": "stream",
     "text": [
      "                                                                                \r"
     ]
    }
   ],
   "source": [
    "origin_counts = flights_df.groupBy(\"ORIGIN_AIRPORT\") \\\n",
    "  .agg(\n",
    "    count(\"*\")\n",
    "    .alias(\"origin_count\")\n",
    "  )\n",
    "destination_counts = flights_df.groupBy(\"DESTINATION_AIRPORT\") \\\n",
    "  .agg(\n",
    "    count(\"*\")\n",
    "    .alias(\"destination_count\")\n",
    "  )\n",
    "\n",
    "origin_counts.show()\n",
    "destination_counts.show()"
   ]
  },
  {
   "cell_type": "code",
   "execution_count": 55,
   "metadata": {},
   "outputs": [
    {
     "name": "stderr",
     "output_type": "stream",
     "text": [
      "[Stage 15:================================================>         (5 + 1) / 6]\r"
     ]
    },
    {
     "name": "stdout",
     "output_type": "stream",
     "text": [
      "+-------+------------+-----------------+-------------+\n",
      "|airport|origin_count|destination_count|total_traffic|\n",
      "+-------+------------+-----------------+-------------+\n",
      "|    ATL|      346836|           346904|       693740|\n",
      "|    ORD|      285884|           285906|       571790|\n",
      "|    DFW|      239551|           239582|       479133|\n",
      "|    DEN|      196055|           196010|       392065|\n",
      "|    LAX|      194673|           194696|       389369|\n",
      "|    SFO|      148008|           147966|       295974|\n",
      "|    PHX|      146815|           146812|       293627|\n",
      "|    IAH|      146622|           146683|       293305|\n",
      "|    LAS|      133181|           133198|       266379|\n",
      "|    MSP|      112117|           112128|       224245|\n",
      "+-------+------------+-----------------+-------------+\n",
      "only showing top 10 rows\n",
      "\n"
     ]
    },
    {
     "name": "stderr",
     "output_type": "stream",
     "text": [
      "                                                                                \r"
     ]
    }
   ],
   "source": [
    "airport_traffic = origin_counts.join(\n",
    "  destination_counts,\n",
    "  origin_counts[\"ORIGIN_AIRPORT\"] == destination_counts[\"DESTINATION_AIRPORT\"],\n",
    "  \"fullouter\"\n",
    "  ) \\\n",
    "  .select(\n",
    "    coalesce(\n",
    "      col(\"ORIGIN_AIRPORT\"),\n",
    "      col(\"DESTINATION_AIRPORT\")\n",
    "    ).alias(\"airport\"),\n",
    "    coalesce(\n",
    "      origin_counts[\"origin_count\"],\n",
    "      lit(0)\n",
    "    ).alias(\"origin_count\"),\n",
    "    coalesce(\n",
    "      destination_counts[\"destination_count\"],\n",
    "      lit(0)\n",
    "    ).alias(\"destination_count\")) \\\n",
    "  .withColumn(\n",
    "    \"total_traffic\",\n",
    "    col(\"origin_count\") + col(\"destination_count\")\n",
    "  ) \\\n",
    "  .orderBy(\n",
    "    col(\"total_traffic\").desc()\n",
    "  )\n",
    "\n",
    "airport_traffic.show(10)"
   ]
  },
  {
   "cell_type": "markdown",
   "metadata": {},
   "source": [
    "### 4. Stop the application"
   ]
  },
  {
   "cell_type": "code",
   "execution_count": 56,
   "metadata": {},
   "outputs": [],
   "source": [
    "spark.stop()"
   ]
  }
 ],
 "metadata": {
  "kernelspec": {
   "display_name": "Python 3 (ipykernel)",
   "language": "python",
   "name": "python3"
  },
  "language_info": {
   "codemirror_mode": {
    "name": "ipython",
    "version": 3
   },
   "file_extension": ".py",
   "mimetype": "text/x-python",
   "name": "python",
   "nbconvert_exporter": "python",
   "pygments_lexer": "ipython3",
   "version": "3.9.2"
  }
 },
 "nbformat": 4,
 "nbformat_minor": 2
}
