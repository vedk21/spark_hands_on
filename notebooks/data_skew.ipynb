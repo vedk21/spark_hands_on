{
 "cells": [
  {
   "cell_type": "markdown",
   "metadata": {},
   "source": [
    "### Skewed Data Simulation and Solution"
   ]
  },
  {
   "cell_type": "code",
   "execution_count": 35,
   "metadata": {},
   "outputs": [],
   "source": [
    "from pyspark.sql import SparkSession\n",
    "from pyspark.sql.functions import col, explode, concat_ws, sum, count, split, array, lit\n",
    "import datetime"
   ]
  },
  {
   "cell_type": "code",
   "execution_count": 36,
   "metadata": {},
   "outputs": [],
   "source": [
    "# 1. Create Sample Skewed Data Directly in Python Lists\n",
    "num_rows = 1000000\n",
    "skewed_customer_id = 'customerA'\n",
    "customer_ids_skewed = [skewed_customer_id] * (num_rows // 2)\n",
    "customer_ids_others = [f'customer{i}' for i in range(1, 50)] * (num_rows // 2)\n",
    "customer_ids = customer_ids_skewed + customer_ids_others\n",
    "order_ids = range(1, num_rows + 1)\n",
    "created_ats = [datetime.datetime(2023, 10, 26) for _ in range(num_rows)]\n",
    "total_prices = [i * 0.1 for i in range(num_rows)]"
   ]
  },
  {
   "cell_type": "code",
   "execution_count": 37,
   "metadata": {},
   "outputs": [],
   "source": [
    "data = []\n",
    "for i in range(num_rows):\n",
    "    data.append((order_ids[i], customer_ids[i], order_ids[i], created_ats[i], total_prices[i]))"
   ]
  },
  {
   "cell_type": "code",
   "execution_count": 38,
   "metadata": {},
   "outputs": [],
   "source": [
    "# 2. Initialize SparkSession\n",
    "spark = SparkSession.builder.appName(\"SaltingGroupByExample\") \\\n",
    "  .config(\"spark.executor.memory\", \"1g\") \\\n",
    "  .config(\"spark.driver.memory\", \"1g\") \\\n",
    "  .config(\"spark.sql.autoBroadcastJoinThreshold\", \"100mb\") \\\n",
    "  .config(\"spark.sql.shuffle.partitions\", \"90\") \\\n",
    "  .config(\"spark.sql.adaptive.enabled\", \"true\") \\\n",
    "  .getOrCreate()"
   ]
  },
  {
   "cell_type": "code",
   "execution_count": 39,
   "metadata": {},
   "outputs": [],
   "source": [
    "# 3. Create DataFrame directly from Python List (In-Memory DataFrame)\n",
    "orders_df = spark.createDataFrame(\n",
    "  data,\n",
    "  schema=[\n",
    "    \"id\",\n",
    "    \"customer_id\",\n",
    "    \"order_id\",\n",
    "    \"created_at\",\n",
    "    \"total_price\"\n",
    "  ]\n",
    ")"
   ]
  },
  {
   "cell_type": "code",
   "execution_count": 40,
   "metadata": {},
   "outputs": [
    {
     "name": "stdout",
     "output_type": "stream",
     "text": [
      "--- Count of orders per customer (showing skew) ---\n"
     ]
    },
    {
     "name": "stderr",
     "output_type": "stream",
     "text": [
      "25/02/25 18:39:39 WARN TaskSetManager: Stage 0 contains a task of very large size (5102 KiB). The maximum recommended task size is 1000 KiB.\n",
      "[Stage 0:>                                                          (0 + 6) / 6]\r"
     ]
    },
    {
     "name": "stdout",
     "output_type": "stream",
     "text": [
      "+-----------+------+\n",
      "|customer_id|count |\n",
      "+-----------+------+\n",
      "|customerA  |500000|\n",
      "|customer2  |10205 |\n",
      "|customer1  |10205 |\n",
      "|customer4  |10205 |\n",
      "|customer3  |10205 |\n",
      "|customer35 |10204 |\n",
      "|customer14 |10204 |\n",
      "|customer41 |10204 |\n",
      "|customer6  |10204 |\n",
      "|customer19 |10204 |\n",
      "|customer30 |10204 |\n",
      "|customer12 |10204 |\n",
      "|customer43 |10204 |\n",
      "|customer7  |10204 |\n",
      "|customer44 |10204 |\n",
      "|customer32 |10204 |\n",
      "|customer47 |10204 |\n",
      "|customer49 |10204 |\n",
      "|customer36 |10204 |\n",
      "|customer20 |10204 |\n",
      "|customer5  |10204 |\n",
      "|customer13 |10204 |\n",
      "|customer40 |10204 |\n",
      "|customer15 |10204 |\n",
      "|customer31 |10204 |\n",
      "|customer8  |10204 |\n",
      "|customer37 |10204 |\n",
      "|customer9  |10204 |\n",
      "|customer29 |10204 |\n",
      "|customer10 |10204 |\n",
      "|customer38 |10204 |\n",
      "|customer23 |10204 |\n",
      "|customer33 |10204 |\n",
      "|customer22 |10204 |\n",
      "|customer25 |10204 |\n",
      "|customer34 |10204 |\n",
      "|customer46 |10204 |\n",
      "|customer42 |10204 |\n",
      "|customer11 |10204 |\n",
      "|customer28 |10204 |\n",
      "|customer27 |10204 |\n",
      "|customer45 |10204 |\n",
      "|customer26 |10204 |\n",
      "|customer48 |10204 |\n",
      "|customer18 |10204 |\n",
      "|customer17 |10204 |\n",
      "|customer39 |10204 |\n",
      "|customer16 |10204 |\n",
      "|customer21 |10204 |\n",
      "|customer24 |10204 |\n",
      "+-----------+------+\n",
      "\n"
     ]
    },
    {
     "name": "stderr",
     "output_type": "stream",
     "text": [
      "                                                                                \r"
     ]
    }
   ],
   "source": [
    "# 4. Demonstrate Data Skew (Optional)\n",
    "print(\"--- Count of orders per customer (showing skew) ---\")\n",
    "orders_df.groupBy(\"customer_id\") \\\n",
    "  .count() \\\n",
    "  .orderBy(col(\"count\").desc()) \\\n",
    "  .show(n=60, truncate=False)"
   ]
  },
  {
   "cell_type": "code",
   "execution_count": 41,
   "metadata": {},
   "outputs": [
    {
     "name": "stderr",
     "output_type": "stream",
     "text": [
      "25/02/25 18:39:42 WARN TaskSetManager: Stage 3 contains a task of very large size (5102 KiB). The maximum recommended task size is 1000 KiB.\n"
     ]
    },
    {
     "name": "stdout",
     "output_type": "stream",
     "text": [
      "\n",
      "--- GroupBy and Sum WITHOUT Salting (Potential Skew) ---\n"
     ]
    },
    {
     "name": "stderr",
     "output_type": "stream",
     "text": [
      "[Stage 3:>                                                          (0 + 6) / 6]\r"
     ]
    },
    {
     "name": "stdout",
     "output_type": "stream",
     "text": [
      "+-----------+-------------------+\n",
      "|customer_id|total_spending     |\n",
      "+-----------+-------------------+\n",
      "|customerA  |1.2499975E10       |\n",
      "|customer4  |7.653760205E8      |\n",
      "|customer3  |7.65375E8          |\n",
      "|customer2  |7.653739795E8      |\n",
      "|customer1  |7.65372959E8       |\n",
      "|customer49 |7.653219385999999E8|\n",
      "|customer48 |7.653209182E8      |\n",
      "|customer47 |7.653198978E8      |\n",
      "|customer46 |7.653188774000001E8|\n",
      "|customer45 |7.65317857E8       |\n",
      "|customer44 |7.653168365999999E8|\n",
      "|customer43 |7.653158162E8      |\n",
      "|customer42 |7.653147958000001E8|\n",
      "|customer41 |7.653137754E8      |\n",
      "|customer40 |7.65312755E8       |\n",
      "|customer39 |7.653117346E8      |\n",
      "|customer38 |7.653107142E8      |\n",
      "|customer37 |7.653096938000001E8|\n",
      "|customer36 |7.653086734E8      |\n",
      "|customer35 |7.65307653E8       |\n",
      "|customer34 |7.653066326E8      |\n",
      "|customer33 |7.653056122E8      |\n",
      "|customer32 |7.653045918000001E8|\n",
      "|customer31 |7.653035714E8      |\n",
      "|customer30 |7.65302551E8       |\n",
      "|customer29 |7.653015306E8      |\n",
      "|customer28 |7.653005102E8      |\n",
      "|customer27 |7.652994898000001E8|\n",
      "|customer26 |7.652984694E8      |\n",
      "|customer25 |7.65297449E8       |\n",
      "|customer24 |7.652964286E8      |\n",
      "|customer23 |7.652954082E8      |\n",
      "|customer22 |7.652943878000001E8|\n",
      "|customer21 |7.652933674E8      |\n",
      "|customer20 |7.65292347E8       |\n",
      "|customer19 |7.652913266E8      |\n",
      "|customer18 |7.652903062E8      |\n",
      "|customer17 |7.652892858000001E8|\n",
      "|customer16 |7.652882654E8      |\n",
      "|customer15 |7.65287245E8       |\n",
      "|customer14 |7.652862246E8      |\n",
      "|customer13 |7.652852042E8      |\n",
      "|customer12 |7.652841838000001E8|\n",
      "|customer11 |7.652831634E8      |\n",
      "|customer10 |7.65282143E8       |\n",
      "|customer9  |7.652811226E8      |\n",
      "|customer8  |7.652801022E8      |\n",
      "|customer7  |7.652790818000001E8|\n",
      "|customer6  |7.652780614E8      |\n",
      "|customer5  |7.65277041E8       |\n",
      "+-----------+-------------------+\n",
      "\n",
      "GroupBy without salting took: 1.16 seconds\n"
     ]
    },
    {
     "name": "stderr",
     "output_type": "stream",
     "text": [
      "                                                                                \r"
     ]
    }
   ],
   "source": [
    "# 5. GroupBy and Sum without Salting (Potential Skew)\n",
    "print(\"\\n--- GroupBy and Sum WITHOUT Salting (Potential Skew) ---\")\n",
    "start_time_no_salt = datetime.datetime.now()\n",
    "\n",
    "grouped_no_salt_df = orders_df.groupBy(\"customer_id\") \\\n",
    "  .agg(sum(\"total_price\")\n",
    "    .alias(\"total_spending\")\n",
    "  ).orderBy(\n",
    "  col(\"total_spending\").desc()\n",
    "  ) \\\n",
    "  .show(n=60, truncate=False)\n",
    "\n",
    "end_time_no_salt = datetime.datetime.now()\n",
    "duration_no_salt = (end_time_no_salt - start_time_no_salt).total_seconds()\n",
    "print(f\"GroupBy without salting took: {duration_no_salt:.2f} seconds\")"
   ]
  },
  {
   "cell_type": "code",
   "execution_count": 42,
   "metadata": {},
   "outputs": [
    {
     "name": "stdout",
     "output_type": "stream",
     "text": [
      "\n",
      "--- GroupBy and Sum WITH Salting ---\n"
     ]
    }
   ],
   "source": [
    "# 6. GroupBy and Sum WITH Salting\n",
    "print(\"\\n--- GroupBy and Sum WITH Salting ---\")\n",
    "salt_count = 10  # Number of salts to use\n",
    "\n",
    "start_time_salted = datetime.datetime.now()\n",
    "\n",
    "# a) Generate salt values as a Python list\n",
    "salt_values = list(range(salt_count))"
   ]
  },
  {
   "cell_type": "code",
   "execution_count": 43,
   "metadata": {},
   "outputs": [],
   "source": [
    "# b) Add Salt to customer_id using array and explode\n",
    "salted_orders_df = orders_df.withColumn(\n",
    "  \"salt\", explode(\n",
    "    array(*[lit(s) for s in salt_values])\n",
    "  )) \\\n",
    "  .withColumn(\n",
    "    \"salted_customer_id\",\n",
    "    concat_ws(\n",
    "      \"_\",\n",
    "      col(\"customer_id\"),\n",
    "      col(\"salt\")\n",
    "    )\n",
    "  )"
   ]
  },
  {
   "cell_type": "code",
   "execution_count": 44,
   "metadata": {},
   "outputs": [],
   "source": [
    "# b) GroupBy on salted_customer_id and Aggregate\n",
    "salted_grouped_df = salted_orders_df.groupBy(\"salted_customer_id\") \\\n",
    "  .agg(\n",
    "    sum(\"total_price\")\n",
    "    .alias(\"salted_total_spending\")\n",
    "  )\n"
   ]
  },
  {
   "cell_type": "code",
   "execution_count": null,
   "metadata": {},
   "outputs": [],
   "source": [
    "# c) Re-aggregate to original customer_id (remove salt and group again)\n",
    "desalted_grouped_df = salted_grouped_df.withColumn(\n",
    "  \"original_customer_id\",\n",
    "  split(\n",
    "    col(\"salted_customer_id\"),\n",
    "    \"_\"\n",
    "  ).getItem(0)\n",
    ") \\\n",
    "  .groupBy(\"original_customer_id\") \\\n",
    "  .agg(\n",
    "    sum(\"salted_total_spending\")\n",
    "    .alias(\"total_spending_salted\")\n",
    "  )"
   ]
  },
  {
   "cell_type": "code",
   "execution_count": 46,
   "metadata": {},
   "outputs": [
    {
     "name": "stderr",
     "output_type": "stream",
     "text": [
      "25/02/25 18:39:44 WARN TaskSetManager: Stage 6 contains a task of very large size (5102 KiB). The maximum recommended task size is 1000 KiB.\n",
      "[Stage 6:>                                                          (0 + 6) / 6]\r"
     ]
    },
    {
     "name": "stdout",
     "output_type": "stream",
     "text": [
      "+--------------------+---------------------+\n",
      "|original_customer_id|total_spending_salted|\n",
      "+--------------------+---------------------+\n",
      "|customerA           |1.2499975E11         |\n",
      "|customer4           |7.653760205E9        |\n",
      "|customer3           |7.65375E9            |\n",
      "|customer2           |7.653739795E9        |\n",
      "|customer1           |7.65372959E9         |\n",
      "|customer49          |7.653219386E9        |\n",
      "|customer48          |7.653209181999999E9  |\n",
      "|customer47          |7.653198978000001E9  |\n",
      "|customer46          |7.653188773999998E9  |\n",
      "|customer45          |7.65317857E9         |\n",
      "|customer44          |7.653168366E9        |\n",
      "|customer43          |7.653158161999999E9  |\n",
      "|customer42          |7.653147958000001E9  |\n",
      "|customer41          |7.653137753999998E9  |\n",
      "|customer40          |7.65312755E9         |\n",
      "|customer39          |7.653117346000002E9  |\n",
      "|customer38          |7.653107141999999E9  |\n",
      "|customer37          |7.653096938000001E9  |\n",
      "|customer36          |7.653086733999998E9  |\n",
      "|customer35          |7.65307653E9         |\n",
      "|customer34          |7.653066326000002E9  |\n",
      "|customer33          |7.653056121999999E9  |\n",
      "|customer32          |7.653045918000001E9  |\n",
      "|customer31          |7.653035713999998E9  |\n",
      "|customer30          |7.65302551E9         |\n",
      "|customer29          |7.653015306000002E9  |\n",
      "|customer28          |7.653005101999999E9  |\n",
      "|customer27          |7.652994898000001E9  |\n",
      "|customer26          |7.652984693999998E9  |\n",
      "|customer25          |7.65297449E9         |\n",
      "|customer24          |7.652964286000002E9  |\n",
      "|customer23          |7.652954081999999E9  |\n",
      "|customer22          |7.652943878000001E9  |\n",
      "|customer21          |7.652933673999998E9  |\n",
      "|customer20          |7.65292347E9         |\n",
      "|customer19          |7.652913266000002E9  |\n",
      "|customer18          |7.652903061999999E9  |\n",
      "|customer17          |7.652892858000001E9  |\n",
      "|customer16          |7.652882653999998E9  |\n",
      "|customer15          |7.65287245E9         |\n",
      "|customer14          |7.652862246000002E9  |\n",
      "|customer13          |7.652852041999999E9  |\n",
      "|customer12          |7.652841838000001E9  |\n",
      "|customer11          |7.652831633999998E9  |\n",
      "|customer10          |7.65282143E9         |\n",
      "|customer9           |7.652811226000002E9  |\n",
      "|customer8           |7.652801021999999E9  |\n",
      "|customer7           |7.652790818000001E9  |\n",
      "|customer6           |7.652780613999998E9  |\n",
      "|customer5           |7.65277041E9         |\n",
      "+--------------------+---------------------+\n",
      "\n",
      "GroupBy with salting took: 1.70 seconds\n"
     ]
    },
    {
     "name": "stderr",
     "output_type": "stream",
     "text": [
      "                                                                                \r"
     ]
    }
   ],
   "source": [
    "desalted_grouped_df.orderBy(\n",
    "  col(\"total_spending_salted\")\n",
    "  .desc()\n",
    ").show(n=60, truncate=False)\n",
    "\n",
    "end_time_salted = datetime.datetime.now()\n",
    "duration_salted = (end_time_salted - start_time_salted).total_seconds()\n",
    "print(f\"GroupBy with salting took: {duration_salted:.2f} seconds\")"
   ]
  },
  {
   "cell_type": "code",
   "execution_count": 47,
   "metadata": {},
   "outputs": [
    {
     "name": "stdout",
     "output_type": "stream",
     "text": [
      "\n",
      "--- Performance Comparison ---\n",
      "GroupBy without Salting Duration: 1.16 seconds\n",
      "GroupBy with Salting Duration: 1.70 seconds\n",
      "\n",
      "--- Note: In a local[*] mode with small data, the difference might not be drastic.\n",
      "--- In a cluster with significant skew and large datasets, salting's benefits will be much more pronounced. ---\n"
     ]
    }
   ],
   "source": [
    "print(\"\\n--- Performance Comparison ---\")\n",
    "print(f\"GroupBy without Salting Duration: {duration_no_salt:.2f} seconds\")\n",
    "print(f\"GroupBy with Salting Duration: {duration_salted:.2f} seconds\")\n",
    "print(\"\\n--- Note: In a local[*] mode with small data, the difference might not be drastic.\")\n",
    "print(\"--- In a cluster with significant skew and large datasets, salting's benefits will be much more pronounced. ---\")"
   ]
  },
  {
   "cell_type": "code",
   "execution_count": 48,
   "metadata": {},
   "outputs": [],
   "source": [
    "spark.stop()"
   ]
  }
 ],
 "metadata": {
  "kernelspec": {
   "display_name": "Python 3 (ipykernel)",
   "language": "python",
   "name": "python3"
  },
  "language_info": {
   "codemirror_mode": {
    "name": "ipython",
    "version": 3
   },
   "file_extension": ".py",
   "mimetype": "text/x-python",
   "name": "python",
   "nbconvert_exporter": "python",
   "pygments_lexer": "ipython3",
   "version": "3.9.2"
  }
 },
 "nbformat": 4,
 "nbformat_minor": 2
}
